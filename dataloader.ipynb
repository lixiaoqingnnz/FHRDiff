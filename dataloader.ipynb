{
 "cells": [
  {
   "cell_type": "code",
   "execution_count": null,
   "id": "bf845399",
   "metadata": {},
   "outputs": [],
   "source": [
    "import torch\n",
    "from torch import nn\n",
    "from torch.utils.data import Dataset, DataLoader\n",
    "from torchvision import transforms as T, utils\n",
    "import torch.nn.functional as F\n",
    "#from imagen_pytorch import t5\n",
    "from torch.nn.utils.rnn import pad_sequence\n",
    "from torchvision import transforms \n",
    "\n",
    "import os\n",
    "import numpy as np\n",
    "\n",
    "device = 'cuda' if torch.cuda.is_available() else 'cpu'\n",
    "\n",
    "def max_min_normalization(signal):\n",
    "    min_val = np.min(signal)\n",
    "    max_val = np.max(signal)\n",
    "    normalized_signal = (signal - min_val) / (max_val - min_val)\n",
    "    \n",
    "    return normalized_signal\n",
    "    \n",
    "class ctg_dataset(Dataset):\n",
    "    def __init__(\n",
    "        self,\n",
    "        data_path,\n",
    "        spectrogram_path):\n",
    "        \n",
    "        self.files = os.listdir(data_path)\n",
    "        self.data = [filename for filename in self.files if filename.endswith('.npy')==True]\n",
    "        \n",
    "    def __len__(self):\n",
    "        self.length = len(self.data)\n",
    "        return self.length\n",
    "    \n",
    "    def __getitem__(self, idx):\n",
    "        fhr_data_name = self.data[idx]\n",
    "        # load data and spectrogram\n",
    "        fhr_signal = \n",
    "        # max_min_normalization\n",
    "        fhr_data = max_min_normalization(fhr_data)\n",
    "        fhr_data = torch.FloatTensor(image)\n",
    "        \n",
    "        return fhr_data\n",
    "        \n",
    "        "
   ]
  },
  {
   "cell_type": "code",
   "execution_count": null,
   "id": "c1ae4135",
   "metadata": {},
   "outputs": [],
   "source": []
  }
 ],
 "metadata": {
  "kernelspec": {
   "display_name": "Python 3 (ipykernel)",
   "language": "python",
   "name": "python3"
  },
  "language_info": {
   "codemirror_mode": {
    "name": "ipython",
    "version": 3
   },
   "file_extension": ".py",
   "mimetype": "text/x-python",
   "name": "python",
   "nbconvert_exporter": "python",
   "pygments_lexer": "ipython3",
   "version": "3.9.12"
  }
 },
 "nbformat": 4,
 "nbformat_minor": 5
}
